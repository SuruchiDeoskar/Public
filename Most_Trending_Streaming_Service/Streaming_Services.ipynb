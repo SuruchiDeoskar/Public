{
 "cells": [
  {
   "cell_type": "markdown",
   "metadata": {},
   "source": [
    "## Importing the necessary modules"
   ]
  },
  {
   "cell_type": "code",
   "execution_count": null,
   "metadata": {},
   "outputs": [],
   "source": [
    "import Auth #Python file for authorization to get tweets from Twitter Search API\n",
    "r = Auth.authenticate(\"keys.json\") #keys to authenticate using above file\n",
    "\n",
    "import tweepy #used to get tweets\n",
    "from vaderSentiment.vaderSentiment import SentimentIntensityAnalyzer # used for sentiment analysis on tweets\n",
    "import numpy as np #module to arrange the array\n",
    "import matplotlib.pyplot as plt #module to plot the graph\n",
    "import datetime #used to pass start_date and end_date"
   ]
  },
  {
   "cell_type": "code",
   "execution_count": null,
   "metadata": {},
   "outputs": [],
   "source": [
    "analyser = SentimentIntensityAnalyzer() #initializing the sentiment analyzer"
   ]
  },
  {
   "cell_type": "markdown",
   "metadata": {},
   "source": [
    "### Tweepy Authentication"
   ]
  },
  {
   "cell_type": "code",
   "execution_count": null,
   "metadata": {},
   "outputs": [],
   "source": [
    "consumer_key = ''\n",
    "consumer_secret = ''\n",
    "access_token = ''\n",
    "access_token_secret = ''\n",
    "\n",
    "auth = tweepy.OAuthHandler(consumer_key, consumer_secret)\n",
    "auth.set_access_token(access_token, access_token_secret)\n",
    "\n",
    "api = tweepy.API(auth)"
   ]
  },
  {
   "cell_type": "markdown",
   "metadata": {},
   "source": [
    "## Basic idea of popularity of streaming services\n",
    "\n",
    "In this section, we will use the Get Users Show API to get the followers count for each streaming service. This will give us the basic idea of popularity of each service."
   ]
  },
  {
   "cell_type": "code",
   "execution_count": null,
   "metadata": {},
   "outputs": [],
   "source": [
    "# code to get the details for Netflix\n",
    "URL = \"https://api.twitter.com/1.1/users/show.json?screen_name=netflix\"\n",
    "resp = r.get(URL)\n",
    "obj = resp.json()\n",
    "print(obj)"
   ]
  },
  {
   "cell_type": "code",
   "execution_count": null,
   "metadata": {},
   "outputs": [],
   "source": [
    "#extract the followers_count and save it in a list\n",
    "followers = []\n",
    "followers.append(obj['followers_count'])\n",
    "print(followers)"
   ]
  },
  {
   "cell_type": "code",
   "execution_count": null,
   "metadata": {
    "scrolled": true
   },
   "outputs": [],
   "source": [
    "# code to get the details for Prime Video\n",
    "URL = \"https://api.twitter.com/1.1/users/show.json?screen_name=PrimeVideo\"\n",
    "resp = r.get(URL)\n",
    "obj = resp.json()\n",
    "print(obj)"
   ]
  },
  {
   "cell_type": "code",
   "execution_count": null,
   "metadata": {},
   "outputs": [],
   "source": [
    "#extract the followers_count and save it in a list\n",
    "followers.append(obj['followers_count'])\n",
    "print(followers)"
   ]
  },
  {
   "cell_type": "code",
   "execution_count": null,
   "metadata": {},
   "outputs": [],
   "source": [
    "# code to get the details for Disney+\n",
    "URL = \"https://api.twitter.com/1.1/users/show.json?screen_name=disneyplus\"\n",
    "resp = r.get(URL)\n",
    "obj = resp.json()\n",
    "print(obj)"
   ]
  },
  {
   "cell_type": "code",
   "execution_count": null,
   "metadata": {},
   "outputs": [],
   "source": [
    "#extract the followers_count and save it in a list\n",
    "followers.append(obj['followers_count'])\n",
    "print(followers)"
   ]
  },
  {
   "cell_type": "code",
   "execution_count": null,
   "metadata": {
    "scrolled": true
   },
   "outputs": [],
   "source": [
    "# code to get the details for Apple TV\n",
    "URL = \"https://api.twitter.com/1.1/users/show.json?screen_name=AppleTV\"\n",
    "resp = r.get(URL)\n",
    "obj = resp.json()\n",
    "print(obj)"
   ]
  },
  {
   "cell_type": "code",
   "execution_count": null,
   "metadata": {},
   "outputs": [],
   "source": [
    "#extract the followers_count and save it in a list\n",
    "followers.append(obj['followers_count'])\n",
    "print(followers)"
   ]
  },
  {
   "cell_type": "markdown",
   "metadata": {},
   "source": [
    "The code below is used to plot a Pie Chart. This will help us to understand which service has the highest followers."
   ]
  },
  {
   "cell_type": "code",
   "execution_count": null,
   "metadata": {},
   "outputs": [],
   "source": [
    "title = plt.title('Popularity based on followers on Twitter')\n",
    "labels = ['Netflix', 'AmazonPrimeVideo', 'DisneyPlus', 'AppleTV' ]\n",
    "colors = ['red', 'blue', 'skyblue', 'black']\n",
    "patches, texts = plt.pie(followers, colors = colors, shadow = True, startangle = 90)\n",
    "plt.legend(patches, labels, bbox_to_anchor = (1,0.5), loc = \"center right\", fontsize = 10, \n",
    "           bbox_transform = plt.gcf().transFigure)\n",
    "plt.subplots_adjust(left=0.0, bottom=0.1, right=0.45)\n",
    "plt.axis('equal')\n",
    "plt.tight_layout()\n",
    "plt.show()"
   ]
  },
  {
   "cell_type": "markdown",
   "metadata": {},
   "source": [
    "## Comparison 1:\n",
    "\n",
    "In this section we are comparing Netflix and Prime Video before the release of latest two which are Apple TV and Disney+. This comparison will be done by collecting 1000 tweets for both the services and the analyzing the sentiment values of the tweets. The tweets are collected by using Tweepy API."
   ]
  },
  {
   "cell_type": "code",
   "execution_count": null,
   "metadata": {
    "scrolled": true
   },
   "outputs": [],
   "source": [
    "# this function is used to get the tweets for Netflix and Prime Video before Apple TV and Disney+\n",
    "\n",
    "start_date = datetime.datetime(2019, 1, 1, 12, 0, 0)\n",
    "end_date = datetime.datetime(2019, 9, 9, 12, 0, 0)\n",
    "\n",
    "def list_tweets(user_id, count, prt=False):\n",
    "    tweets = api.user_timeline(\n",
    "        \"@\" + user_id, count=count, tweet_mode='extended', since = start_date, until = end_date)\n",
    "    tw = []\n",
    "    for t in tweets:\n",
    "        tw.append(t.full_text)\n",
    "        if prt:\n",
    "            print(t.full_text)\n",
    "            print()\n",
    "    return tw"
   ]
  },
  {
   "cell_type": "code",
   "execution_count": null,
   "metadata": {},
   "outputs": [],
   "source": [
    "#collecting tweets\n",
    "user_id = 'netflix' \n",
    "count= 1000\n",
    "tweet = list_tweets(user_id, count)\n",
    "print(tweet)"
   ]
  },
  {
   "cell_type": "code",
   "execution_count": null,
   "metadata": {},
   "outputs": [],
   "source": [
    "# sentiment analysis\n",
    "list =[]\n",
    "\n",
    "for item in tweet:\n",
    "    x = analyser.polarity_scores(item)\n",
    "    print(x)\n",
    "    list.append(x['compound'])"
   ]
  },
  {
   "cell_type": "code",
   "execution_count": null,
   "metadata": {},
   "outputs": [],
   "source": [
    "# compound sentiment calculation\n",
    "avg=0\n",
    "counter=0\n",
    "add =0\n",
    "for item in list:\n",
    "    add += item\n",
    "    counter += 1\n",
    "avg = round((add / counter), 5)\n",
    "print(avg)"
   ]
  },
  {
   "cell_type": "code",
   "execution_count": null,
   "metadata": {},
   "outputs": [],
   "source": [
    "# saving the compound sentiment value in a list\n",
    "values = []\n",
    "values.append(avg)\n",
    "print(values)"
   ]
  },
  {
   "cell_type": "code",
   "execution_count": null,
   "metadata": {},
   "outputs": [],
   "source": [
    "#collecting tweets\n",
    "user_id = 'PrimeVideo' \n",
    "count= 1000\n",
    "tweet = list_tweets(user_id, count)\n",
    "print(tweet)"
   ]
  },
  {
   "cell_type": "code",
   "execution_count": null,
   "metadata": {},
   "outputs": [],
   "source": [
    "# sentiment analysis\n",
    "list =[]\n",
    "\n",
    "for item in tweet:\n",
    "    x = analyser.polarity_scores(item)\n",
    "    print(x)\n",
    "    list.append(x['compound'])"
   ]
  },
  {
   "cell_type": "code",
   "execution_count": null,
   "metadata": {},
   "outputs": [],
   "source": [
    "# compound sentiment calculation\n",
    "avg=0\n",
    "counter=0\n",
    "add =0\n",
    "for item in list:\n",
    "    add += item\n",
    "    counter += 1\n",
    "avg = round((add / counter), 5)\n",
    "print(avg)"
   ]
  },
  {
   "cell_type": "code",
   "execution_count": null,
   "metadata": {},
   "outputs": [],
   "source": [
    "# saving the compound sentiment value in a list\n",
    "values.append(avg)\n",
    "print(values)"
   ]
  },
  {
   "cell_type": "markdown",
   "metadata": {},
   "source": [
    "The code below is used to plot a Bar Chart by making use of Matplotlib and Numpy modules."
   ]
  },
  {
   "cell_type": "code",
   "execution_count": null,
   "metadata": {},
   "outputs": [],
   "source": [
    "objects = ('Netflix', 'PrimeVideo')\n",
    "y_pos = np.arange(len(objects))\n",
    "\n",
    "plt.bar(y_pos, values, align='center', alpha=0.5)\n",
    "plt.xticks(y_pos, objects, fontsize = 8)\n",
    "plt.ylabel('Popularity')\n",
    "plt.xlabel('Streaming Services')\n",
    "plt.title('Sentiment Analysis of Streaming Service')\n",
    "\n",
    "plt.show()"
   ]
  },
  {
   "cell_type": "markdown",
   "metadata": {},
   "source": [
    "## Comparison 2:\n",
    "\n",
    "In this section we are comparing Netflix, Prime Video and Apple TV before the release of Disney+. This comparison will be done by collecting 1000 tweets for both the services and the analyzing the sentiment values of the tweets. The tweets are collected by using Tweepy API."
   ]
  },
  {
   "cell_type": "code",
   "execution_count": null,
   "metadata": {},
   "outputs": [],
   "source": [
    "# this function is used to get tweets for Netflix, Prime Video and Apple TV\n",
    "#after the launch of Apple TV and before the launch of Disney+\n",
    "\n",
    "start_date = datetime.datetime(2019, 9, 9, 12, 0, 0)\n",
    "end_date = datetime.datetime(2019, 11, 12, 12, 0, 0)\n",
    "\n",
    "def list_tweets(user_id, count, prt=False):\n",
    "    tweets = api.user_timeline(\n",
    "        \"@\" + user_id, count=count, tweet_mode='extended', since = start_date, until = end_date)\n",
    "    tw = []\n",
    "    for t in tweets:\n",
    "        tw.append(t.full_text)\n",
    "        if prt:\n",
    "            print(t.full_text)\n",
    "            print()\n",
    "    return tw"
   ]
  },
  {
   "cell_type": "code",
   "execution_count": null,
   "metadata": {},
   "outputs": [],
   "source": [
    "#collecting tweets\n",
    "user_id = 'netflix' \n",
    "count= 1000\n",
    "tweet = list_tweets(user_id, count)\n",
    "print(tweet)"
   ]
  },
  {
   "cell_type": "code",
   "execution_count": null,
   "metadata": {},
   "outputs": [],
   "source": [
    "# sentiment analysis\n",
    "list =[]\n",
    "\n",
    "for item in tweet:\n",
    "    x = analyser.polarity_scores(item)\n",
    "    print(x)\n",
    "    list.append(x['compound'])"
   ]
  },
  {
   "cell_type": "code",
   "execution_count": null,
   "metadata": {},
   "outputs": [],
   "source": [
    "# compound sentiment calculation\n",
    "avg=0\n",
    "counter=0\n",
    "add =0\n",
    "for item in list:\n",
    "    add += item\n",
    "    counter += 1\n",
    "avg = round((add / counter), 5)\n",
    "print(avg)"
   ]
  },
  {
   "cell_type": "code",
   "execution_count": null,
   "metadata": {},
   "outputs": [],
   "source": [
    "# saving the compound sentiment value in a list\n",
    "value = []\n",
    "value.append(avg)\n",
    "print(value)"
   ]
  },
  {
   "cell_type": "code",
   "execution_count": null,
   "metadata": {},
   "outputs": [],
   "source": [
    "#collecting tweets\n",
    "user_id = 'PrimeVideo' \n",
    "count= 1000\n",
    "tweet = list_tweets(user_id, count)\n",
    "print(tweet)"
   ]
  },
  {
   "cell_type": "code",
   "execution_count": null,
   "metadata": {},
   "outputs": [],
   "source": [
    "# sentiment analysis\n",
    "list =[]\n",
    "\n",
    "for item in tweet:\n",
    "    x = analyser.polarity_scores(item)\n",
    "    print(x)\n",
    "    list.append(x['compound'])"
   ]
  },
  {
   "cell_type": "code",
   "execution_count": null,
   "metadata": {},
   "outputs": [],
   "source": [
    "# compound sentiment calculation\n",
    "avg=0\n",
    "counter=0\n",
    "add =0\n",
    "for item in list:\n",
    "    add += item\n",
    "    counter += 1\n",
    "avg = round((add / counter), 5)\n",
    "print(avg)"
   ]
  },
  {
   "cell_type": "code",
   "execution_count": null,
   "metadata": {},
   "outputs": [],
   "source": [
    "# saving the compound sentiment value in a list\n",
    "value.append(avg)\n",
    "print(value)"
   ]
  },
  {
   "cell_type": "code",
   "execution_count": null,
   "metadata": {},
   "outputs": [],
   "source": [
    "#collecting tweets\n",
    "user_id = 'AppleTV' \n",
    "count= 10000\n",
    "tweet = list_tweets(user_id, count)\n",
    "print(tweet)"
   ]
  },
  {
   "cell_type": "code",
   "execution_count": null,
   "metadata": {},
   "outputs": [],
   "source": [
    "# sentiment analysis\n",
    "list =[]\n",
    "\n",
    "for item in tweet:\n",
    "    x = analyser.polarity_scores(item)\n",
    "    print(x)\n",
    "    list.append(x['compound'])"
   ]
  },
  {
   "cell_type": "code",
   "execution_count": null,
   "metadata": {},
   "outputs": [],
   "source": [
    "# compound sentiment calculation\n",
    "avg=0\n",
    "counter=0\n",
    "add =0\n",
    "for item in list:\n",
    "    add += item\n",
    "    counter += 1\n",
    "avg = round((add / counter), 5)\n",
    "print(avg)"
   ]
  },
  {
   "cell_type": "code",
   "execution_count": null,
   "metadata": {},
   "outputs": [],
   "source": [
    "# saving the compound sentiment value in a list\n",
    "value.append(avg)\n",
    "print(value)"
   ]
  },
  {
   "cell_type": "markdown",
   "metadata": {},
   "source": [
    "The code below is used to plot a Bar Chart by making use of Matplotlib and Numpy modules."
   ]
  },
  {
   "cell_type": "code",
   "execution_count": null,
   "metadata": {},
   "outputs": [],
   "source": [
    "objects = ('Netflix', 'PrimeVideo','AppleTv' )\n",
    "y_pos = np.arange(len(objects))\n",
    "\n",
    "plt.bar(y_pos, value, align='center', alpha=0.5)\n",
    "plt.xticks(y_pos, objects, fontsize = 8)\n",
    "plt.ylabel('Popularity')\n",
    "plt.xlabel('Streaming Services')\n",
    "plt.title('Sentiment Analysis of Streaming Service')\n",
    "\n",
    "plt.show()"
   ]
  },
  {
   "cell_type": "markdown",
   "metadata": {},
   "source": [
    "## Comparison 3:\n",
    "\n",
    "Now we are comparing all 4 streaming services. Here, 10,000 tweets from all 4 services are collected by using Tweepy API and then sentiment analysis is performed on these tweets. This will give us the final result i.e.; whic streaming service is most trending."
   ]
  },
  {
   "cell_type": "code",
   "execution_count": null,
   "metadata": {},
   "outputs": [],
   "source": [
    "# this function is used to collect tweets for all 4 services\n",
    "def list_tweets(user_id, count, prt=False):\n",
    "    tweets = api.user_timeline(\n",
    "        \"@\" + user_id, count=count, tweet_mode='extended')\n",
    "    tw = []\n",
    "    for t in tweets:\n",
    "        tw.append(t.full_text)\n",
    "        if prt:\n",
    "            print(t.full_text)\n",
    "            print()\n",
    "    return tw"
   ]
  },
  {
   "cell_type": "code",
   "execution_count": null,
   "metadata": {},
   "outputs": [],
   "source": [
    "#collecting tweets\n",
    "user_id = 'netflix' \n",
    "count= 10000\n",
    "tweet = list_tweets(user_id, count)\n",
    "print(tweet)"
   ]
  },
  {
   "cell_type": "code",
   "execution_count": null,
   "metadata": {},
   "outputs": [],
   "source": [
    "# sentiment analysis\n",
    "list =[]\n",
    "\n",
    "for item in tweet:\n",
    "    x = analyser.polarity_scores(item)\n",
    "    print(x)\n",
    "    list.append(x['compound'])"
   ]
  },
  {
   "cell_type": "code",
   "execution_count": null,
   "metadata": {},
   "outputs": [],
   "source": [
    "# compound sentiment calculation\n",
    "avg=0\n",
    "counter=0\n",
    "add =0\n",
    "for item in list:\n",
    "    add += item\n",
    "    counter += 1\n",
    "avg = round((add / counter), 5)\n",
    "print(avg)"
   ]
  },
  {
   "cell_type": "code",
   "execution_count": null,
   "metadata": {},
   "outputs": [],
   "source": [
    "# saving the compound sentiment value in a list\n",
    "compound_values = []\n",
    "compound_values.append(avg)\n",
    "print(compound_values)"
   ]
  },
  {
   "cell_type": "code",
   "execution_count": null,
   "metadata": {},
   "outputs": [],
   "source": [
    "#collecting tweets\n",
    "user_id = 'PrimeVideo' \n",
    "count= 10000\n",
    "tweet = list_tweets(user_id, count)\n",
    "print(tweet)"
   ]
  },
  {
   "cell_type": "code",
   "execution_count": null,
   "metadata": {},
   "outputs": [],
   "source": [
    "# sentiment analysis\n",
    "list =[]\n",
    "\n",
    "for item in tweet:\n",
    "    x = analyser.polarity_scores(item)\n",
    "    print(x)\n",
    "    list.append(x['compound'])"
   ]
  },
  {
   "cell_type": "code",
   "execution_count": null,
   "metadata": {},
   "outputs": [],
   "source": [
    "# compound sentiment calculation\n",
    "avg=0\n",
    "counter=0\n",
    "add =0\n",
    "for item in list:\n",
    "    add += item\n",
    "    counter += 1\n",
    "avg = round((add / counter), 5)\n",
    "print(avg)"
   ]
  },
  {
   "cell_type": "code",
   "execution_count": null,
   "metadata": {},
   "outputs": [],
   "source": [
    "# saving the compound sentiment value in a list\n",
    "compound_values.append(avg)\n",
    "print(compound_values)"
   ]
  },
  {
   "cell_type": "code",
   "execution_count": null,
   "metadata": {},
   "outputs": [],
   "source": [
    "#collecting tweets\n",
    "user_id = 'disneyplus' \n",
    "count= 10000\n",
    "tweet = list_tweets(user_id, count)\n",
    "print(tweet)"
   ]
  },
  {
   "cell_type": "code",
   "execution_count": null,
   "metadata": {},
   "outputs": [],
   "source": [
    "# sentiment analysis\n",
    "list =[]\n",
    "\n",
    "for item in tweet:\n",
    "    x = analyser.polarity_scores(item)\n",
    "    print(x)\n",
    "    list.append(x['compound'])"
   ]
  },
  {
   "cell_type": "code",
   "execution_count": null,
   "metadata": {},
   "outputs": [],
   "source": [
    "# compound sentiment calculation\n",
    "avg=0\n",
    "counter=0\n",
    "add =0\n",
    "for item in list:\n",
    "    add += item\n",
    "    counter += 1\n",
    "avg = round((add / counter), 5)\n",
    "print(avg)"
   ]
  },
  {
   "cell_type": "code",
   "execution_count": null,
   "metadata": {},
   "outputs": [],
   "source": [
    "# saving the compound sentiment value in a list\n",
    "compound_values.append(avg)\n",
    "print(compound_values)"
   ]
  },
  {
   "cell_type": "code",
   "execution_count": null,
   "metadata": {},
   "outputs": [],
   "source": [
    "#collecting tweets\n",
    "user_id = 'AppleTV' \n",
    "count= 10000\n",
    "tweet = list_tweets(user_id, count)\n",
    "print(tweet)"
   ]
  },
  {
   "cell_type": "code",
   "execution_count": null,
   "metadata": {},
   "outputs": [],
   "source": [
    "# sentiment analysis\n",
    "list =[]\n",
    "\n",
    "for item in tweet:\n",
    "    x = analyser.polarity_scores(item)\n",
    "    print(x)\n",
    "    list.append(x['compound'])"
   ]
  },
  {
   "cell_type": "code",
   "execution_count": null,
   "metadata": {},
   "outputs": [],
   "source": [
    "# compound sentiment calculation\n",
    "avg=0\n",
    "counter=0\n",
    "add =0\n",
    "for item in list:\n",
    "    add += item\n",
    "    counter += 1\n",
    "avg = round((add / counter), 5)\n",
    "print(avg)"
   ]
  },
  {
   "cell_type": "code",
   "execution_count": null,
   "metadata": {},
   "outputs": [],
   "source": [
    "# saving the compound sentiment value in a list\n",
    "compound_values.append(avg)\n",
    "print(compound_values)"
   ]
  },
  {
   "cell_type": "markdown",
   "metadata": {},
   "source": [
    "The code below is used to plot a Bar Chart by making use of Matplotlib and Numpy modules."
   ]
  },
  {
   "cell_type": "code",
   "execution_count": null,
   "metadata": {
    "scrolled": true
   },
   "outputs": [],
   "source": [
    "objects = ('Netflix', 'PrimeVideo', 'DisneyPlus','AppleTv' )\n",
    "y_pos = np.arange(len(objects))\n",
    "\n",
    "plt.bar(y_pos, compound_values, align='center', alpha=0.5)\n",
    "plt.xticks(y_pos, objects, fontsize = 8)\n",
    "plt.ylabel('Popularity')\n",
    "plt.xlabel('Streaming Services')\n",
    "plt.title('Sentiment Analysis of Streaming Service')\n",
    "\n",
    "plt.show()"
   ]
  }
 ],
 "metadata": {
  "kernelspec": {
   "display_name": "Python 3",
   "language": "python",
   "name": "python3"
  },
  "language_info": {
   "codemirror_mode": {
    "name": "ipython",
    "version": 3
   },
   "file_extension": ".py",
   "mimetype": "text/x-python",
   "name": "python",
   "nbconvert_exporter": "python",
   "pygments_lexer": "ipython3",
   "version": "3.7.3"
  }
 },
 "nbformat": 4,
 "nbformat_minor": 2
}
