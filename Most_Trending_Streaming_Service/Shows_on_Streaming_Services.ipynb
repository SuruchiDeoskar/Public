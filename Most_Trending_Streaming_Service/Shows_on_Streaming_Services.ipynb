{
 "cells": [
  {
   "cell_type": "markdown",
   "metadata": {},
   "source": [
    "## Importing the necessary modules"
   ]
  },
  {
   "cell_type": "code",
   "execution_count": null,
   "metadata": {
    "scrolled": false
   },
   "outputs": [],
   "source": [
    "import Auth #Python file for authorization to get tweets from Twitter Search API\n",
    "r = Auth.authenticate(\"keys.json\") #keys to authenticate using above file\n",
    "\n",
    "import matplotlib.pyplot as plt; #module to plot the graph\n",
    "import numpy as np #module to arrange the array\n",
    "from vaderSentiment.vaderSentiment import SentimentIntensityAnalyzer # used for sentiment analysis on tweets"
   ]
  },
  {
   "cell_type": "code",
   "execution_count": null,
   "metadata": {},
   "outputs": [],
   "source": [
    "analyser = SentimentIntensityAnalyzer() #initializing the sentiment analyzer"
   ]
  },
  {
   "cell_type": "markdown",
   "metadata": {},
   "source": [
    "## Netflix shows\n",
    "\n",
    "We will perform sentiment analysis on 4 shows of Netflix. The tweets will be collected by using Twitter Search API. We will be collecting the tweets by using the hashtags associated with each show."
   ]
  },
  {
   "cell_type": "markdown",
   "metadata": {},
   "source": [
    "#### Show: Peaky Blinders"
   ]
  },
  {
   "cell_type": "code",
   "execution_count": null,
   "metadata": {},
   "outputs": [],
   "source": [
    "# collecting the tweets as a json object using the API\n",
    "ENDPOINT_URL = \"https://api.twitter.com/1.1/search/tweets.json?q=%23PeakyBlinders&src=typeahead_click&lang=en&result_type=recent&count=100\"\n",
    "\n",
    "resp = r.get(ENDPOINT_URL)\n",
    "obj = resp.json()\n",
    "print(obj)"
   ]
  },
  {
   "cell_type": "code",
   "execution_count": null,
   "metadata": {
    "scrolled": true
   },
   "outputs": [],
   "source": [
    "#the code snippet below will filter out tweets and exlude all the other data in the json object\n",
    "#this will also exclude retweets\n",
    "i = 0\n",
    "tweets = []\n",
    "for i in range(0, 100):\n",
    "    if ('RT @' not in obj['statuses'][i]['text']):\n",
    "        tweets.append(obj['statuses'][i]['text'])\n",
    "        i += 1\n",
    "print(tweets)"
   ]
  },
  {
   "cell_type": "code",
   "execution_count": null,
   "metadata": {
    "scrolled": true
   },
   "outputs": [],
   "source": [
    "#here we are performing sentiment analysis on the tweets we got\n",
    "list =[]\n",
    "\n",
    "for item in tweets:\n",
    "    x = analyser.polarity_scores(item)\n",
    "    print(x)\n",
    "    list.append(x['compound'])"
   ]
  },
  {
   "cell_type": "code",
   "execution_count": null,
   "metadata": {},
   "outputs": [],
   "source": [
    "#calculating the compound value from all the sentiment values\n",
    "avg=0\n",
    "counter=0\n",
    "add =0\n",
    "for item in list:\n",
    "    add += item\n",
    "    counter += 1\n",
    "avg = round((add / counter), 5)\n",
    "print(avg)"
   ]
  },
  {
   "cell_type": "code",
   "execution_count": null,
   "metadata": {},
   "outputs": [],
   "source": [
    "#adding the compound value to a list for drawing the graph\n",
    "netflix = []\n",
    "netflix.append(avg)\n",
    "print(netflix)"
   ]
  },
  {
   "cell_type": "markdown",
   "metadata": {},
   "source": [
    "#### Show: Mind Hunter"
   ]
  },
  {
   "cell_type": "code",
   "execution_count": null,
   "metadata": {},
   "outputs": [],
   "source": [
    "# collecting the tweets as a json object using the API\n",
    "ENDPOINT_URL = \"https://api.twitter.com/1.1/search/tweets.json?q=%23Mindhunter&src=typeahead_click&lang=en&result_type=recent&count=100\"\n",
    "\n",
    "resp = r.get(ENDPOINT_URL)\n",
    "obj = resp.json()\n",
    "print(obj)"
   ]
  },
  {
   "cell_type": "code",
   "execution_count": null,
   "metadata": {},
   "outputs": [],
   "source": [
    "#the code snippet below will filter out tweets and exlude all the other data in the json object\n",
    "#this will also exclude retweets\n",
    "i = 0\n",
    "tweets = []\n",
    "for i in range(0, 100):\n",
    "    if ('RT @' not in obj['statuses'][i]['text']):\n",
    "        tweets.append(obj['statuses'][i]['text'])\n",
    "        i += 1\n",
    "print(tweets)"
   ]
  },
  {
   "cell_type": "code",
   "execution_count": null,
   "metadata": {
    "scrolled": true
   },
   "outputs": [],
   "source": [
    "#here we are performing sentiment analysis on the tweets we got\n",
    "list =[]\n",
    "\n",
    "for item in tweets:\n",
    "    x = analyser.polarity_scores(item)\n",
    "    print(x)\n",
    "    list.append(x['compound'])"
   ]
  },
  {
   "cell_type": "code",
   "execution_count": null,
   "metadata": {},
   "outputs": [],
   "source": [
    "#calculating the compound value from all the sentiment values\n",
    "avg=0\n",
    "counter=0\n",
    "add =0\n",
    "for item in list:\n",
    "    add += item\n",
    "    counter += 1\n",
    "avg = round((add / counter), 5)\n",
    "print(avg)"
   ]
  },
  {
   "cell_type": "code",
   "execution_count": null,
   "metadata": {},
   "outputs": [],
   "source": [
    "#adding the compound value to a list for drawing the graph\n",
    "netflix.append(avg)\n",
    "print(netflix)"
   ]
  },
  {
   "cell_type": "markdown",
   "metadata": {},
   "source": [
    "#### Show: The Umbrella Academy"
   ]
  },
  {
   "cell_type": "code",
   "execution_count": null,
   "metadata": {},
   "outputs": [],
   "source": [
    "# collecting the tweets as a json object using the API\n",
    "ENDPOINT_URL = \"https://api.twitter.com/1.1/search/tweets.json?q=%23theumbrellaacademy&src=typeahead_click&lang=en&result_type=recent&count=100\"\n",
    "\n",
    "resp = r.get(ENDPOINT_URL)\n",
    "obj = resp.json()\n",
    "print(obj)"
   ]
  },
  {
   "cell_type": "code",
   "execution_count": null,
   "metadata": {
    "scrolled": true
   },
   "outputs": [],
   "source": [
    "#the code snippet below will filter out tweets and exlude all the other data in the json object\n",
    "#this will also exclude retweets\n",
    "i = 0\n",
    "tweets = []\n",
    "for i in range(0, 100):\n",
    "    if ('RT @' not in obj['statuses'][i]['text']):\n",
    "        tweets.append(obj['statuses'][i]['text'])\n",
    "        i += 1\n",
    "print(tweets)"
   ]
  },
  {
   "cell_type": "code",
   "execution_count": null,
   "metadata": {
    "scrolled": true
   },
   "outputs": [],
   "source": [
    "#here we are performing sentiment analysis on the tweets we got\n",
    "list =[]\n",
    "\n",
    "for item in tweets:\n",
    "    x = analyser.polarity_scores(item)\n",
    "    print(x)\n",
    "    list.append(x['compound'])"
   ]
  },
  {
   "cell_type": "code",
   "execution_count": null,
   "metadata": {},
   "outputs": [],
   "source": [
    "#calculating the compound value from all the sentiment values\n",
    "avg=0\n",
    "counter=0\n",
    "add =0\n",
    "for item in list:\n",
    "    add += item\n",
    "    counter += 1\n",
    "avg = round((add / counter), 5)\n",
    "print(avg)"
   ]
  },
  {
   "cell_type": "code",
   "execution_count": null,
   "metadata": {},
   "outputs": [],
   "source": [
    "#adding the compound value to a list for drawing the graph\n",
    "netflix.append(avg)\n",
    "print(netflix)"
   ]
  },
  {
   "cell_type": "markdown",
   "metadata": {},
   "source": [
    "#### Show: Stranger Things"
   ]
  },
  {
   "cell_type": "code",
   "execution_count": null,
   "metadata": {},
   "outputs": [],
   "source": [
    "# collecting the tweets as a json object using the API\n",
    "ENDPOINT_URL = \"https://api.twitter.com/1.1/search/tweets.json?q=%23StrangerThings&src=typeahead_click&lang=en&result_type=recent&count=100\"\n",
    "\n",
    "resp = r.get(ENDPOINT_URL)\n",
    "obj = resp.json()\n",
    "print(obj)"
   ]
  },
  {
   "cell_type": "code",
   "execution_count": null,
   "metadata": {
    "scrolled": true
   },
   "outputs": [],
   "source": [
    "#the code snippet below will filter out tweets and exlude all the other data in the json object\n",
    "#this will also exclude retweets\n",
    "i = 0\n",
    "tweets = []\n",
    "for i in range(0, 100):\n",
    "    if ('RT @' not in obj['statuses'][i]['text']):\n",
    "        tweets.append(obj['statuses'][i]['text'])\n",
    "        i += 1\n",
    "print(tweets)"
   ]
  },
  {
   "cell_type": "code",
   "execution_count": null,
   "metadata": {
    "scrolled": true
   },
   "outputs": [],
   "source": [
    "#here we are performing sentiment analysis on the tweets we got\n",
    "list =[]\n",
    "\n",
    "for item in tweets:\n",
    "    x = analyser.polarity_scores(item)\n",
    "    print(x)\n",
    "    list.append(x['compound'])"
   ]
  },
  {
   "cell_type": "code",
   "execution_count": null,
   "metadata": {},
   "outputs": [],
   "source": [
    "#calculating the compound value from all the sentiment values\n",
    "avg=0\n",
    "counter=0\n",
    "add =0\n",
    "for item in list:\n",
    "    add += item\n",
    "    counter += 1\n",
    "avg = round((add / counter), 5)\n",
    "print(avg)"
   ]
  },
  {
   "cell_type": "code",
   "execution_count": null,
   "metadata": {},
   "outputs": [],
   "source": [
    "#adding the compound value to a list for drawing the graph\n",
    "netflix.append(avg)\n",
    "print(netflix)"
   ]
  },
  {
   "cell_type": "markdown",
   "metadata": {},
   "source": [
    "The code below is used to plot a Bar Chart by making use of Matplotlib and Numpy modules."
   ]
  },
  {
   "cell_type": "code",
   "execution_count": null,
   "metadata": {},
   "outputs": [],
   "source": [
    "objects = ('Peaky_Blinders', 'Mind_Hunter', 'The_Umbrella_Academy','Stranger_Things' )\n",
    "y_pos = np.arange(len(objects))\n",
    "\n",
    "plt.bar(y_pos, netflix, align = 'center', alpha = 0.5)\n",
    "plt.xticks(y_pos, objects, fontsize = 8)\n",
    "plt.ylabel('Popularity')\n",
    "plt.xlabel('Shows')\n",
    "plt.title('Sentiment Analysis of shows on Netflix')\n",
    "\n",
    "plt.show()"
   ]
  },
  {
   "cell_type": "markdown",
   "metadata": {},
   "source": [
    "## Amazon shows\n",
    "\n",
    "We will perform sentiment analysis on 4 shows of Amazon Prime Video. The tweets will be collected by using Twitter Search API. We will be collecting the tweets by using the hashtags associated with each show."
   ]
  },
  {
   "cell_type": "markdown",
   "metadata": {},
   "source": [
    "#### Show: Good Omens"
   ]
  },
  {
   "cell_type": "code",
   "execution_count": null,
   "metadata": {
    "scrolled": true
   },
   "outputs": [],
   "source": [
    "# collecting the tweets as a json object using the API\n",
    "ENDPOINT_URL = \"https://api.twitter.com/1.1/search/tweets.json?q=%23GoodOmens&src=typeahead_click&lang=en&result_type=recent&count=100\"\n",
    "\n",
    "resp = r.get(ENDPOINT_URL)\n",
    "obj = resp.json()\n",
    "print(obj)"
   ]
  },
  {
   "cell_type": "code",
   "execution_count": null,
   "metadata": {
    "scrolled": false
   },
   "outputs": [],
   "source": [
    "#the code snippet below will filter out tweets and exlude all the other data in the json object\n",
    "#this will also exclude retweets\n",
    "i = 0\n",
    "tweets = []\n",
    "for i in range(0, 100):\n",
    "    if ('RT @' not in obj['statuses'][i]['text']):\n",
    "        tweets.append(obj['statuses'][i]['text'])\n",
    "        i += 1\n",
    "print(tweets)"
   ]
  },
  {
   "cell_type": "code",
   "execution_count": null,
   "metadata": {
    "scrolled": true
   },
   "outputs": [],
   "source": [
    "#here we are performing sentiment analysis on the tweets we got\n",
    "list =[]\n",
    "\n",
    "for item in tweets:\n",
    "    x = analyser.polarity_scores(item)\n",
    "    print(x)\n",
    "    list.append(x['compound'])"
   ]
  },
  {
   "cell_type": "code",
   "execution_count": null,
   "metadata": {},
   "outputs": [],
   "source": [
    "#calculating the compound value from all the sentiment values\n",
    "avg=0\n",
    "counter=0\n",
    "add =0\n",
    "for item in list:\n",
    "    add += item\n",
    "    counter += 1\n",
    "avg = round((add / counter), 5)\n",
    "print(avg)"
   ]
  },
  {
   "cell_type": "code",
   "execution_count": null,
   "metadata": {},
   "outputs": [],
   "source": [
    "#adding the compound value to a list for drawing the graph\n",
    "prime = []\n",
    "prime.append(avg)\n",
    "print(prime)"
   ]
  },
  {
   "cell_type": "markdown",
   "metadata": {},
   "source": [
    "#### Show: The Marvelous Mrs Maisel"
   ]
  },
  {
   "cell_type": "code",
   "execution_count": null,
   "metadata": {},
   "outputs": [],
   "source": [
    "# collecting the tweets as a json object using the API\n",
    "ENDPOINT_URL = \"https://api.twitter.com/1.1/search/tweets.json?q=%23marvelousmrsmaisel&src=typeahead_click&lang=en&result_type=recent&count=100\"\n",
    "\n",
    "resp = r.get(ENDPOINT_URL)\n",
    "obj = resp.json()\n",
    "print(obj)"
   ]
  },
  {
   "cell_type": "code",
   "execution_count": null,
   "metadata": {},
   "outputs": [],
   "source": [
    "#the code snippet below will filter out tweets and exlude all the other data in the json object\n",
    "#this will also exclude retweets\n",
    "i = 0\n",
    "tweets = []\n",
    "for i in range(0, 100):\n",
    "    if ('RT @' not in obj['statuses'][i]['text']):\n",
    "        tweets.append(obj['statuses'][i]['text'])\n",
    "        i += 1\n",
    "print(tweets)"
   ]
  },
  {
   "cell_type": "code",
   "execution_count": null,
   "metadata": {
    "scrolled": true
   },
   "outputs": [],
   "source": [
    "#here we are performing sentiment analysis on the tweets we got\n",
    "list =[]\n",
    "\n",
    "for item in tweets:\n",
    "    x = analyser.polarity_scores(item)\n",
    "    print(x)\n",
    "    list.append(x['compound'])"
   ]
  },
  {
   "cell_type": "code",
   "execution_count": null,
   "metadata": {},
   "outputs": [],
   "source": [
    "#calculating the compound value from all the sentiment values\n",
    "avg=0\n",
    "counter=0\n",
    "add =0\n",
    "for item in list:\n",
    "    add += item\n",
    "    counter += 1\n",
    "avg = round((add / counter), 5)\n",
    "print(avg)"
   ]
  },
  {
   "cell_type": "code",
   "execution_count": null,
   "metadata": {},
   "outputs": [],
   "source": [
    "#adding the compound value to a list for drawing the graph\n",
    "prime.append(avg)\n",
    "print(prime)"
   ]
  },
  {
   "cell_type": "markdown",
   "metadata": {},
   "source": [
    "#### Show: Mr. Robot"
   ]
  },
  {
   "cell_type": "code",
   "execution_count": null,
   "metadata": {},
   "outputs": [],
   "source": [
    "# collecting the tweets as a json object using the API\n",
    "ENDPOINT_URL = \"https://api.twitter.com/1.1/search/tweets.json?q=%23MrRobot&src=typeahead_click&lang=en&result_type=recent&count=100\"\n",
    "\n",
    "resp = r.get(ENDPOINT_URL)\n",
    "obj = resp.json()\n",
    "print(obj)"
   ]
  },
  {
   "cell_type": "code",
   "execution_count": null,
   "metadata": {
    "scrolled": true
   },
   "outputs": [],
   "source": [
    "#the code snippet below will filter out tweets and exlude all the other data in the json object\n",
    "#this will also exclude retweets\n",
    "i = 0\n",
    "tweets = []\n",
    "for i in range(0, 100):\n",
    "    if ('RT @' not in obj['statuses'][i]['text']):\n",
    "        tweets.append(obj['statuses'][i]['text'])\n",
    "        i += 1\n",
    "print(tweets)"
   ]
  },
  {
   "cell_type": "code",
   "execution_count": null,
   "metadata": {
    "scrolled": false
   },
   "outputs": [],
   "source": [
    "#here we are performing sentiment analysis on the tweets we got\n",
    "list =[]\n",
    "\n",
    "for item in tweets:\n",
    "    x = analyser.polarity_scores(item)\n",
    "    print(x)\n",
    "    list.append(x['compound'])"
   ]
  },
  {
   "cell_type": "code",
   "execution_count": null,
   "metadata": {},
   "outputs": [],
   "source": [
    "#calculating the compound value from all the sentiment values\n",
    "avg=0\n",
    "counter=0\n",
    "add =0\n",
    "for item in list:\n",
    "    add += item\n",
    "    counter += 1\n",
    "avg = round((add / counter), 5)\n",
    "print(avg)"
   ]
  },
  {
   "cell_type": "code",
   "execution_count": null,
   "metadata": {},
   "outputs": [],
   "source": [
    "#adding the compound value to a list for drawing the graph\n",
    "prime.append(avg)\n",
    "print(prime)"
   ]
  },
  {
   "cell_type": "markdown",
   "metadata": {},
   "source": [
    "#### Show: Sneaky Pete"
   ]
  },
  {
   "cell_type": "code",
   "execution_count": null,
   "metadata": {},
   "outputs": [],
   "source": [
    "# collecting the tweets as a json object using the API\n",
    "ENDPOINT_URL = \"https://api.twitter.com/1.1/search/tweets.json?q=%23SneakyPete&src=typeahead_click&lang=en&result_type=recent&count=100\"\n",
    "\n",
    "resp = r.get(ENDPOINT_URL)\n",
    "obj = resp.json()\n",
    "print(obj)"
   ]
  },
  {
   "cell_type": "code",
   "execution_count": null,
   "metadata": {
    "scrolled": true
   },
   "outputs": [],
   "source": [
    "#the code snippet below will filter out tweets and exlude all the other data in the json object\n",
    "#this will also exclude retweets\n",
    "i = 0\n",
    "tweets = []\n",
    "for i in range(0, 100):\n",
    "    if ('RT @' not in obj['statuses'][i]['text']):\n",
    "        tweets.append(obj['statuses'][i]['text'])\n",
    "        i += 1\n",
    "print(tweets)"
   ]
  },
  {
   "cell_type": "code",
   "execution_count": null,
   "metadata": {
    "scrolled": true
   },
   "outputs": [],
   "source": [
    "#here we are performing sentiment analysis on the tweets we got\n",
    "list =[]\n",
    "\n",
    "for item in tweets:\n",
    "    x = analyser.polarity_scores(item)\n",
    "    print(x)\n",
    "    list.append(x['compound'])"
   ]
  },
  {
   "cell_type": "code",
   "execution_count": null,
   "metadata": {},
   "outputs": [],
   "source": [
    "#calculating the compound value from all the sentiment values\n",
    "avg=0\n",
    "counter=0\n",
    "add =0\n",
    "for item in list:\n",
    "    add += item\n",
    "    counter += 1\n",
    "avg = round((add / counter), 5)\n",
    "print(avg)"
   ]
  },
  {
   "cell_type": "code",
   "execution_count": null,
   "metadata": {},
   "outputs": [],
   "source": [
    "#adding the compound value to a list for drawing the graph\n",
    "prime.append(avg)\n",
    "print(prime)"
   ]
  },
  {
   "cell_type": "markdown",
   "metadata": {},
   "source": [
    "The code below is used to plot a Bar Chart by making use of Matplotlib and Numpy modules."
   ]
  },
  {
   "cell_type": "code",
   "execution_count": null,
   "metadata": {},
   "outputs": [],
   "source": [
    "objects = ('Good_Omens', 'Marvelous_Mrs_Maisel', 'Mr_Robot','Sneaky_Pete')\n",
    "y_pos = np.arange(len(objects))\n",
    "\n",
    "plt.bar(y_pos, prime, align = 'center', alpha = 0.5)\n",
    "plt.xticks(y_pos, objects, fontsize = 8)\n",
    "plt.ylabel('Popularity')\n",
    "plt.xlabel('Shows')\n",
    "plt.title('Sentiment Analysis of shows on Netflix')\n",
    "\n",
    "plt.show()"
   ]
  },
  {
   "cell_type": "markdown",
   "metadata": {},
   "source": [
    "## Disney+\n",
    "\n",
    "We will perform sentiment analysis on 4 shows of Disney+. The tweets will be collected by using Twitter Search API. We will be collecting the tweets by using the hashtags associated with each show."
   ]
  },
  {
   "cell_type": "markdown",
   "metadata": {},
   "source": [
    "#### Show: The Mandalorian"
   ]
  },
  {
   "cell_type": "code",
   "execution_count": null,
   "metadata": {},
   "outputs": [],
   "source": [
    "# collecting the tweets as a json object using the API\n",
    "ENDPOINT_URL = \"https://api.twitter.com/1.1/search/tweets.json?q=%23TheMandalorian&src=typeahead_click&lang=en&result_type=recent&count=100\"\n",
    "\n",
    "resp = r.get(ENDPOINT_URL)\n",
    "obj = resp.json()\n",
    "print(obj)"
   ]
  },
  {
   "cell_type": "code",
   "execution_count": null,
   "metadata": {
    "scrolled": true
   },
   "outputs": [],
   "source": [
    "#the code snippet below will filter out tweets and exlude all the other data in the json object\n",
    "#this will also exclude retweets\n",
    "i = 0\n",
    "tweets = []\n",
    "for i in range(0, 100):\n",
    "    if ('RT @' not in obj['statuses'][i]['text']):\n",
    "        tweets.append(obj['statuses'][i]['text'])\n",
    "        i += 1\n",
    "print(tweets)"
   ]
  },
  {
   "cell_type": "code",
   "execution_count": null,
   "metadata": {
    "scrolled": true
   },
   "outputs": [],
   "source": [
    "#here we are performing sentiment analysis on the tweets we got\n",
    "list =[]\n",
    "\n",
    "for item in tweets:\n",
    "    x = analyser.polarity_scores(item)\n",
    "    print(x)\n",
    "    list.append(x['compound'])"
   ]
  },
  {
   "cell_type": "code",
   "execution_count": null,
   "metadata": {},
   "outputs": [],
   "source": [
    "#calculating the compound value from all the sentiment values\n",
    "avg=0\n",
    "counter=0\n",
    "add =0\n",
    "for item in list:\n",
    "    add += item\n",
    "    counter += 1\n",
    "avg = round((add / counter), 5)\n",
    "print(avg)"
   ]
  },
  {
   "cell_type": "code",
   "execution_count": null,
   "metadata": {},
   "outputs": [],
   "source": [
    "#adding the compound value to a list for drawing the graph\n",
    "disney = []\n",
    "disney.append(avg)\n",
    "print(disney)"
   ]
  },
  {
   "cell_type": "markdown",
   "metadata": {},
   "source": [
    "#### Show: High School Musical The Musical The Series"
   ]
  },
  {
   "cell_type": "code",
   "execution_count": null,
   "metadata": {},
   "outputs": [],
   "source": [
    "# collecting the tweets as a json object using the API\n",
    "ENDPOINT_URL = \"https://api.twitter.com/1.1/search/tweets.json?q=%23HSMTMTS&src=typeahead_click&lang=en&result_type=recent&count=100\"\n",
    "\n",
    "resp = r.get(ENDPOINT_URL)\n",
    "obj = resp.json()\n",
    "print(obj)"
   ]
  },
  {
   "cell_type": "code",
   "execution_count": null,
   "metadata": {
    "scrolled": true
   },
   "outputs": [],
   "source": [
    "#the code snippet below will filter out tweets and exlude all the other data in the json object\n",
    "#this will also exclude retweets\n",
    "i = 0\n",
    "tweets = []\n",
    "for i in range(0, 100):\n",
    "    if ('RT @' not in obj['statuses'][i]['text']):\n",
    "        tweets.append(obj['statuses'][i]['text'])\n",
    "        i += 1\n",
    "print(tweets)"
   ]
  },
  {
   "cell_type": "code",
   "execution_count": null,
   "metadata": {},
   "outputs": [],
   "source": [
    "#here we are performing sentiment analysis on the tweets we got\n",
    "list =[]\n",
    "\n",
    "for item in tweets:\n",
    "    x = analyser.polarity_scores(item)\n",
    "    print(x)\n",
    "    list.append(x['compound'])"
   ]
  },
  {
   "cell_type": "code",
   "execution_count": null,
   "metadata": {},
   "outputs": [],
   "source": [
    "#calculating the compound value from all the sentiment values\n",
    "avg=0\n",
    "counter=0\n",
    "add =0\n",
    "for item in list:\n",
    "    add += item\n",
    "    counter += 1\n",
    "avg = round((add / counter), 5)\n",
    "print(avg)"
   ]
  },
  {
   "cell_type": "code",
   "execution_count": null,
   "metadata": {},
   "outputs": [],
   "source": [
    "#adding the compound value to a list for drawing the graph\n",
    "disney.append(avg)\n",
    "print(disney)"
   ]
  },
  {
   "cell_type": "markdown",
   "metadata": {},
   "source": [
    "The code below is used to plot a Bar Chart by making use of Matplotlib and Numpy modules."
   ]
  },
  {
   "cell_type": "code",
   "execution_count": null,
   "metadata": {},
   "outputs": [],
   "source": [
    "objects = ('The_Mandalorian', 'High_School_Musical_Series')\n",
    "y_pos = np.arange(len(objects))\n",
    "\n",
    "plt.bar(y_pos, disney, align = 'center', alpha = 0.5)\n",
    "plt.xticks(y_pos, objects, fontsize = 8)\n",
    "plt.ylabel('Popularity')\n",
    "plt.xlabel('Shows')\n",
    "plt.title('Sentiment Analysis of shows on Netflix')\n",
    "\n",
    "plt.show()"
   ]
  },
  {
   "cell_type": "markdown",
   "metadata": {},
   "source": [
    "## Apple TV\n",
    "\n",
    "We will perform sentiment analysis on 4 shows of Apple TV. The tweets will be collected by using Twitter Search API. We will be collecting the tweets by using the hashtags associated with each show."
   ]
  },
  {
   "cell_type": "markdown",
   "metadata": {},
   "source": [
    "#### Show: The Morning Show"
   ]
  },
  {
   "cell_type": "code",
   "execution_count": null,
   "metadata": {},
   "outputs": [],
   "source": [
    "# collecting the tweets as a json object using the API\n",
    "ENDPOINT_URL = \"https://api.twitter.com/1.1/search/tweets.json?q=%23TheMorningShow&src=typeahead_click&lang=en&result_type=recent&count=100\"\n",
    "\n",
    "resp = r.get(ENDPOINT_URL)\n",
    "obj = resp.json()\n",
    "print(obj)"
   ]
  },
  {
   "cell_type": "code",
   "execution_count": null,
   "metadata": {
    "scrolled": true
   },
   "outputs": [],
   "source": [
    "#the code snippet below will filter out tweets and exlude all the other data in the json object\n",
    "#this will also exclude retweets\n",
    "i = 0\n",
    "tweets = []\n",
    "for i in range(0, 100):\n",
    "    if ('RT @' not in obj['statuses'][i]['text']):\n",
    "        tweets.append(obj['statuses'][i]['text'])\n",
    "        i += 1\n",
    "print(tweets)"
   ]
  },
  {
   "cell_type": "code",
   "execution_count": null,
   "metadata": {
    "scrolled": true
   },
   "outputs": [],
   "source": [
    "#here we are performing sentiment analysis on the tweets we got\n",
    "list =[]\n",
    "\n",
    "for item in tweets:\n",
    "    x = analyser.polarity_scores(item)\n",
    "    print(x)\n",
    "    list.append(x['compound'])"
   ]
  },
  {
   "cell_type": "code",
   "execution_count": null,
   "metadata": {},
   "outputs": [],
   "source": [
    "#calculating the compound value from all the sentiment values\n",
    "avg=0\n",
    "counter=0\n",
    "add =0\n",
    "for item in list:\n",
    "    add += item\n",
    "    counter += 1\n",
    "avg = round((add / counter), 5)\n",
    "print(avg)"
   ]
  },
  {
   "cell_type": "code",
   "execution_count": null,
   "metadata": {},
   "outputs": [],
   "source": [
    "#adding the compound value to a list for drawing the graph\n",
    "apple = []\n",
    "apple.append(avg)\n",
    "print(apple)"
   ]
  },
  {
   "cell_type": "markdown",
   "metadata": {},
   "source": [
    "#### Show: SEE"
   ]
  },
  {
   "cell_type": "code",
   "execution_count": null,
   "metadata": {},
   "outputs": [],
   "source": [
    "# collecting the tweets as a json object using the API\n",
    "ENDPOINT_URL = \"https://api.twitter.com/1.1/search/tweets.json?q=%23SEE&src=typeahead_click&lang=en&result_type=recent&count=100\"\n",
    "\n",
    "resp = r.get(ENDPOINT_URL)\n",
    "obj = resp.json()\n",
    "print(obj)"
   ]
  },
  {
   "cell_type": "code",
   "execution_count": null,
   "metadata": {
    "scrolled": true
   },
   "outputs": [],
   "source": [
    "#the code snippet below will filter out tweets and exlude all the other data in the json object\n",
    "#this will also exclude retweets\n",
    "i = 0\n",
    "tweets = []\n",
    "for i in range(0, 100):\n",
    "    if ('RT @' not in obj['statuses'][i]['text']):\n",
    "        tweets.append(obj['statuses'][i]['text'])\n",
    "        i += 1\n",
    "print(tweets)"
   ]
  },
  {
   "cell_type": "code",
   "execution_count": null,
   "metadata": {
    "scrolled": true
   },
   "outputs": [],
   "source": [
    "#here we are performing sentiment analysis on the tweets we got\n",
    "list =[]\n",
    "\n",
    "for item in tweets:\n",
    "    x = analyser.polarity_scores(item)\n",
    "    print(x)\n",
    "    list.append(x['compound'])"
   ]
  },
  {
   "cell_type": "code",
   "execution_count": null,
   "metadata": {},
   "outputs": [],
   "source": [
    "#calculating the compound value from all the sentiment values\n",
    "avg=0\n",
    "counter=0\n",
    "add =0\n",
    "for item in list:\n",
    "    add += item\n",
    "    counter += 1\n",
    "avg = round((add / counter), 5)\n",
    "print(avg)"
   ]
  },
  {
   "cell_type": "code",
   "execution_count": null,
   "metadata": {},
   "outputs": [],
   "source": [
    "#adding the compound value to a list for drawing the graph\n",
    "apple.append(avg)\n",
    "print(apple)"
   ]
  },
  {
   "cell_type": "markdown",
   "metadata": {},
   "source": [
    "#### Show: For All Mankind"
   ]
  },
  {
   "cell_type": "code",
   "execution_count": null,
   "metadata": {},
   "outputs": [],
   "source": [
    "# collecting the tweets as a json object using the API\n",
    "ENDPOINT_URL = \"https://api.twitter.com/1.1/search/tweets.json?q=%23ForAllMankind&src=typeahead_click&lang=en&result_type=recent&count=100\"\n",
    "\n",
    "resp = r.get(ENDPOINT_URL)\n",
    "obj = resp.json()\n",
    "print(obj)"
   ]
  },
  {
   "cell_type": "code",
   "execution_count": null,
   "metadata": {
    "scrolled": true
   },
   "outputs": [],
   "source": [
    "#the code snippet below will filter out tweets and exlude all the other data in the json object\n",
    "#this will also exclude retweets\n",
    "i = 0\n",
    "tweets = []\n",
    "for i in range(0, 100):\n",
    "    if ('RT @' not in obj['statuses'][i]['text']):\n",
    "        tweets.append(obj['statuses'][i]['text'])\n",
    "        i += 1\n",
    "print(tweets)"
   ]
  },
  {
   "cell_type": "code",
   "execution_count": null,
   "metadata": {
    "scrolled": true
   },
   "outputs": [],
   "source": [
    "#here we are performing sentiment analysis on the tweets we got\n",
    "list =[]\n",
    "\n",
    "for item in tweets:\n",
    "    x = analyser.polarity_scores(item)\n",
    "    print(x)\n",
    "    list.append(x['compound'])"
   ]
  },
  {
   "cell_type": "code",
   "execution_count": null,
   "metadata": {},
   "outputs": [],
   "source": [
    "#calculating the compound value from all the sentiment values\n",
    "avg=0\n",
    "counter=0\n",
    "add =0\n",
    "for item in list:\n",
    "    add += item\n",
    "    counter += 1\n",
    "avg = round((add / counter), 5)\n",
    "print(avg)"
   ]
  },
  {
   "cell_type": "code",
   "execution_count": null,
   "metadata": {},
   "outputs": [],
   "source": [
    "#adding the compound value to a list for drawing the graph\n",
    "apple.append(avg)\n",
    "print(apple)"
   ]
  },
  {
   "cell_type": "markdown",
   "metadata": {},
   "source": [
    "#### Show: Servant"
   ]
  },
  {
   "cell_type": "code",
   "execution_count": null,
   "metadata": {},
   "outputs": [],
   "source": [
    "# collecting the tweets as a json object using the API\n",
    "ENDPOINT_URL = \"https://api.twitter.com/1.1/search/tweets.json?q=%23Servant&src=typeahead_click&lang=en&result_type=recent&count=100\"\n",
    "\n",
    "resp = r.get(ENDPOINT_URL)\n",
    "obj = resp.json()\n",
    "print(obj)"
   ]
  },
  {
   "cell_type": "code",
   "execution_count": null,
   "metadata": {
    "scrolled": true
   },
   "outputs": [],
   "source": [
    "#the code snippet below will filter out tweets and exlude all the other data in the json object\n",
    "#this will also exclude retweets\n",
    "i = 0\n",
    "tweets = []\n",
    "for i in range(0, 93): #For this show we did not find 100 tweets, there were only 93 tweets.\n",
    "    if ('RT @' not in obj['statuses'][i]['text']):\n",
    "        tweets.append(obj['statuses'][i]['text'])\n",
    "        i += 1\n",
    "print(tweets)"
   ]
  },
  {
   "cell_type": "code",
   "execution_count": null,
   "metadata": {
    "scrolled": true
   },
   "outputs": [],
   "source": [
    "#here we are performing sentiment analysis on the tweets we got\n",
    "list =[]\n",
    "\n",
    "for item in tweets:\n",
    "    x = analyser.polarity_scores(item)\n",
    "    print(x)\n",
    "    list.append(x['compound'])"
   ]
  },
  {
   "cell_type": "code",
   "execution_count": null,
   "metadata": {},
   "outputs": [],
   "source": [
    "#calculating the compound value from all the sentiment values\n",
    "avg=0\n",
    "counter=0\n",
    "add =0\n",
    "for item in list:\n",
    "    add += item\n",
    "    counter += 1\n",
    "avg = round((add / counter), 5)\n",
    "print(avg)"
   ]
  },
  {
   "cell_type": "code",
   "execution_count": null,
   "metadata": {},
   "outputs": [],
   "source": [
    "#adding the compound value to a list for drawing the graph\n",
    "apple.append(avg)\n",
    "print(apple)"
   ]
  },
  {
   "cell_type": "markdown",
   "metadata": {},
   "source": [
    "The code below is used to plot a Bar Chart by making use of Matplotlib and Numpy modules."
   ]
  },
  {
   "cell_type": "code",
   "execution_count": null,
   "metadata": {
    "scrolled": true
   },
   "outputs": [],
   "source": [
    "objects = ('The_Morning_Show', 'SEE', 'For_All_Mankind','Servant')\n",
    "y_pos = np.arange(len(objects))\n",
    "\n",
    "plt.bar(y_pos, apple, align = 'center', alpha = 0.5)\n",
    "plt.xticks(y_pos, objects, fontsize = 8)\n",
    "plt.ylabel('Popularity')\n",
    "plt.xlabel('Shows')\n",
    "plt.title('Sentiment Analysis of shows on Netflix')\n",
    "\n",
    "plt.show()"
   ]
  },
  {
   "cell_type": "markdown",
   "metadata": {},
   "source": [
    "## Comparison across services\n",
    "\n",
    "Here we are selecting the most trending show of each Streaming Service according to the sentiment analysis above and comparing them against each other. In this section we will not perform sentiment analysis but we will compare the followers count of each show. This is done by using the Get Users Show API. This API gives us the details of an account such as id, follower_count, statuses_count, etc, and also gives is the latest tweet and its details."
   ]
  },
  {
   "cell_type": "markdown",
   "metadata": {},
   "source": [
    "According to Sentiment value the most trending show of Netflix is Stranger Things."
   ]
  },
  {
   "cell_type": "code",
   "execution_count": null,
   "metadata": {
    "scrolled": true
   },
   "outputs": [],
   "source": [
    "# code to get the details\n",
    "URL = \"https://api.twitter.com/1.1/users/show.json?screen_name=Stranger_Things\"\n",
    "resp = r.get(URL)\n",
    "obj = resp.json()\n",
    "print(obj)"
   ]
  },
  {
   "cell_type": "code",
   "execution_count": null,
   "metadata": {},
   "outputs": [],
   "source": [
    "#extract the followers_count and save it in a list\n",
    "follower_count = []\n",
    "follower_count.append(obj['followers_count'])\n",
    "print(follower_count)"
   ]
  },
  {
   "cell_type": "markdown",
   "metadata": {},
   "source": [
    "According to Sentiment value the most trending show of Prime Video is The Marvelous Mrs Mailse."
   ]
  },
  {
   "cell_type": "code",
   "execution_count": null,
   "metadata": {},
   "outputs": [],
   "source": [
    "# code to get the details\n",
    "URL = \"https://api.twitter.com/1.1/users/show.json?screen_name=MaiselTV\"\n",
    "resp = r.get(URL)\n",
    "obj = resp.json()\n",
    "print(obj)"
   ]
  },
  {
   "cell_type": "code",
   "execution_count": null,
   "metadata": {},
   "outputs": [],
   "source": [
    "#extract the followers_count and save it in a list\n",
    "follower_count.append(obj['followers_count'])\n",
    "print(follower_count)"
   ]
  },
  {
   "cell_type": "markdown",
   "metadata": {},
   "source": [
    "According to Sentiment value the most trending show of Disney+ is The Mandalorian."
   ]
  },
  {
   "cell_type": "code",
   "execution_count": null,
   "metadata": {},
   "outputs": [],
   "source": [
    "# code to get the details\n",
    "URL = \"https://api.twitter.com/1.1/users/show.json?screen_name=themandalorian\"\n",
    "resp = r.get(URL)\n",
    "obj = resp.json()\n",
    "print(obj)"
   ]
  },
  {
   "cell_type": "code",
   "execution_count": null,
   "metadata": {},
   "outputs": [],
   "source": [
    "#extract the followers_count and save it in a list\n",
    "follower_count.append(obj['followers_count'])\n",
    "print(follower_count)"
   ]
  },
  {
   "cell_type": "markdown",
   "metadata": {},
   "source": [
    "According to Sentiment value the most trending show of Apple TV is For All Mankind."
   ]
  },
  {
   "cell_type": "code",
   "execution_count": null,
   "metadata": {},
   "outputs": [],
   "source": [
    "# code to get the details\n",
    "URL = \"https://api.twitter.com/1.1/users/show.json?screen_name=forallmankind_\"\n",
    "resp = r.get(URL)\n",
    "obj = resp.json()\n",
    "print(obj)"
   ]
  },
  {
   "cell_type": "code",
   "execution_count": null,
   "metadata": {},
   "outputs": [],
   "source": [
    "#extract the followers_count and save it in a list\n",
    "follower_count.append(obj['followers_count'])\n",
    "print(follower_count)"
   ]
  },
  {
   "cell_type": "markdown",
   "metadata": {},
   "source": [
    "The code below is used to plot a Bar Chart by making use of Matplotlib and Numpy modules."
   ]
  },
  {
   "cell_type": "code",
   "execution_count": null,
   "metadata": {},
   "outputs": [],
   "source": [
    "objects = ('Stranger_Things', 'Mravelous_Mrs_Maisel', 'The_Mandalorian','For_All_Mankind' )\n",
    "y_pos = np.arange(len(objects))\n",
    "\n",
    "plt.bar(y_pos, follower_count, align='center', alpha=0.5)\n",
    "plt.xticks(y_pos, objects, fontsize = 8)\n",
    "plt.ylabel('Popularity')\n",
    "plt.xlabel('Streaming Services')\n",
    "plt.title('Sentiment Analysis of Streaming Service')\n",
    "\n",
    "plt.show()"
   ]
  }
 ],
 "metadata": {
  "kernelspec": {
   "display_name": "Python 3",
   "language": "python",
   "name": "python3"
  },
  "language_info": {
   "codemirror_mode": {
    "name": "ipython",
    "version": 3
   },
   "file_extension": ".py",
   "mimetype": "text/x-python",
   "name": "python",
   "nbconvert_exporter": "python",
   "pygments_lexer": "ipython3",
   "version": "3.7.3"
  }
 },
 "nbformat": 4,
 "nbformat_minor": 2
}
